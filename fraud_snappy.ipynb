{
  "cells": [
    {
      "cell_type": "markdown",
      "metadata": {
        "id": "view-in-github",
        "colab_type": "text"
      },
      "source": [
        "<a href=\"https://colab.research.google.com/github/veydantkatyal/fraud-snap/blob/main/fraud_snappy.ipynb\" target=\"_parent\"><img src=\"https://colab.research.google.com/assets/colab-badge.svg\" alt=\"Open In Colab\"/></a>"
      ]
    },
    {
      "cell_type": "markdown",
      "metadata": {
        "id": "9eAl_am70ymP"
      },
      "source": [
        "# **PROJECT SETUP**"
      ]
    },
    {
      "cell_type": "code",
      "execution_count": 5,
      "metadata": {
        "colab": {
          "base_uri": "https://localhost:8080/"
        },
        "id": "tNtxgAqsz5Tc",
        "outputId": "dab6f7b5-aa5a-460a-f137-2c1407b09d62"
      },
      "outputs": [
        {
          "output_type": "stream",
          "name": "stdout",
          "text": [
            "Requirement already satisfied: torch in /usr/local/lib/python3.10/dist-packages (2.4.0+cu121)\n",
            "Requirement already satisfied: torchvision in /usr/local/lib/python3.10/dist-packages (0.19.0+cu121)\n",
            "Requirement already satisfied: pandas in /usr/local/lib/python3.10/dist-packages (2.1.4)\n",
            "Requirement already satisfied: filelock in /usr/local/lib/python3.10/dist-packages (from torch) (3.16.0)\n",
            "Requirement already satisfied: typing-extensions>=4.8.0 in /usr/local/lib/python3.10/dist-packages (from torch) (4.12.2)\n",
            "Requirement already satisfied: sympy in /usr/local/lib/python3.10/dist-packages (from torch) (1.13.2)\n",
            "Requirement already satisfied: networkx in /usr/local/lib/python3.10/dist-packages (from torch) (3.3)\n",
            "Requirement already satisfied: jinja2 in /usr/local/lib/python3.10/dist-packages (from torch) (3.1.4)\n",
            "Requirement already satisfied: fsspec in /usr/local/lib/python3.10/dist-packages (from torch) (2024.6.1)\n",
            "Requirement already satisfied: numpy in /usr/local/lib/python3.10/dist-packages (from torchvision) (1.26.4)\n",
            "Requirement already satisfied: pillow!=8.3.*,>=5.3.0 in /usr/local/lib/python3.10/dist-packages (from torchvision) (10.4.0)\n",
            "Requirement already satisfied: python-dateutil>=2.8.2 in /usr/local/lib/python3.10/dist-packages (from pandas) (2.8.2)\n",
            "Requirement already satisfied: pytz>=2020.1 in /usr/local/lib/python3.10/dist-packages (from pandas) (2024.2)\n",
            "Requirement already satisfied: tzdata>=2022.1 in /usr/local/lib/python3.10/dist-packages (from pandas) (2024.1)\n",
            "Requirement already satisfied: six>=1.5 in /usr/local/lib/python3.10/dist-packages (from python-dateutil>=2.8.2->pandas) (1.16.0)\n",
            "Requirement already satisfied: MarkupSafe>=2.0 in /usr/local/lib/python3.10/dist-packages (from jinja2->torch) (2.1.5)\n",
            "Requirement already satisfied: mpmath<1.4,>=1.1.0 in /usr/local/lib/python3.10/dist-packages (from sympy->torch) (1.3.0)\n"
          ]
        }
      ],
      "source": [
        "# Install dependencies\n",
        "!pip install torch torchvision pandas\n"
      ]
    },
    {
      "cell_type": "code",
      "execution_count": 6,
      "metadata": {
        "id": "8an75QaM0Da8"
      },
      "outputs": [],
      "source": [
        "# Import necessary libraries\n",
        "import os\n",
        "import torch\n",
        "import torch.nn as nn\n",
        "import torch.optim as optim\n",
        "from torchvision import datasets, models, transforms\n",
        "import pandas as pd\n",
        "from sklearn.metrics import precision_score, recall_score\n",
        "from PIL import Image\n",
        "import cv2\n",
        "import numpy as np\n"
      ]
    },
    {
      "cell_type": "markdown",
      "metadata": {
        "id": "Wd40Ap_-0_8d"
      },
      "source": [
        "# **LOADING THE LABELLED DATASET**"
      ]
    },
    {
      "cell_type": "code",
      "execution_count": 7,
      "metadata": {
        "colab": {
          "base_uri": "https://localhost:8080/"
        },
        "id": "0ndARaxm0DYP",
        "outputId": "97797678-b039-4d87-ded7-bb7d8e4da276"
      },
      "outputs": [
        {
          "output_type": "stream",
          "name": "stdout",
          "text": [
            "Mounted at /content/drive\n"
          ]
        }
      ],
      "source": [
        "from google.colab import drive\n",
        "drive.mount('/content/drive')\n"
      ]
    },
    {
      "cell_type": "code",
      "execution_count": 8,
      "metadata": {
        "id": "i_80mYA00DVH"
      },
      "outputs": [],
      "source": [
        "# Define the path to your dataset in Google Drive\n",
        "train_dir = '/content/drive/My Drive/doctor_bills_dataset/train'\n",
        "val_dir = '/content/drive/My Drive/doctor_bills_dataset/val'\n"
      ]
    },
    {
      "cell_type": "markdown",
      "metadata": {
        "id": "L9m62ypo1G-s"
      },
      "source": [
        "# **DATA TRANSFORMERS**"
      ]
    },
    {
      "cell_type": "code",
      "execution_count": 9,
      "metadata": {
        "id": "ul6BFjg70DSG"
      },
      "outputs": [],
      "source": [
        "# Import necessary modules from PyTorch\n",
        "import torch\n",
        "from torch.utils.data import DataLoader  # Import DataLoader\n",
        "\n",
        "from torchvision import datasets, transforms\n",
        "\n",
        "# Define transformations for train and validation sets\n",
        "data_transforms = {\n",
        "    'train': transforms.Compose([\n",
        "        transforms.Resize((224, 224)),\n",
        "        transforms.RandomHorizontalFlip(),\n",
        "        transforms.ToTensor(),\n",
        "        transforms.Normalize([0.485, 0.456, 0.406], [0.229, 0.224, 0.225])\n",
        "    ]),\n",
        "    'val': transforms.Compose([\n",
        "        transforms.Resize((224, 224)),\n",
        "        transforms.ToTensor(),\n",
        "        transforms.Normalize([0.485, 0.456, 0.406], [0.229, 0.224, 0.225])\n",
        "    ]),\n",
        "}\n",
        "\n",
        "# Load datasets from the specified directories\n",
        "train_dataset = datasets.ImageFolder(train_dir, transform=data_transforms['train'])\n",
        "val_dataset = datasets.ImageFolder(val_dir, transform=data_transforms['val'])\n",
        "\n",
        "# Define DataLoader for train and validation datasets\n",
        "train_loader = DataLoader(train_dataset, batch_size=16, shuffle=True)  # DataLoader defined correctly now\n",
        "val_loader = DataLoader(val_dataset, batch_size=16, shuffle=False)\n"
      ]
    },
    {
      "cell_type": "markdown",
      "metadata": {
        "id": "YKev84jc1LI8"
      },
      "source": [
        "# **MODEL DEFINITION(RESNET50)**"
      ]
    },
    {
      "cell_type": "code",
      "execution_count": 10,
      "metadata": {
        "colab": {
          "base_uri": "https://localhost:8080/"
        },
        "id": "W2-7I4uY0DPP",
        "outputId": "13ee5f9d-51ee-4610-ab84-8f05f92e4aee"
      },
      "outputs": [
        {
          "output_type": "stream",
          "name": "stderr",
          "text": [
            "/usr/local/lib/python3.10/dist-packages/torchvision/models/_utils.py:208: UserWarning: The parameter 'pretrained' is deprecated since 0.13 and may be removed in the future, please use 'weights' instead.\n",
            "  warnings.warn(\n",
            "/usr/local/lib/python3.10/dist-packages/torchvision/models/_utils.py:223: UserWarning: Arguments other than a weight enum or `None` for 'weights' are deprecated since 0.13 and may be removed in the future. The current behavior is equivalent to passing `weights=ResNet50_Weights.IMAGENET1K_V1`. You can also use `weights=ResNet50_Weights.DEFAULT` to get the most up-to-date weights.\n",
            "  warnings.warn(msg)\n",
            "Downloading: \"https://download.pytorch.org/models/resnet50-0676ba61.pth\" to /root/.cache/torch/hub/checkpoints/resnet50-0676ba61.pth\n",
            "100%|██████████| 97.8M/97.8M [00:00<00:00, 123MB/s]\n"
          ]
        }
      ],
      "source": [
        "from torchvision import models\n",
        "import torch.nn as nn\n",
        "\n",
        "# Load the pre-trained ResNet50 model\n",
        "model = models.resnet50(pretrained=True)\n",
        "\n",
        "# Modify the final fully connected layer for binary classification\n",
        "num_ftrs = model.fc.in_features\n",
        "model.fc = nn.Linear(num_ftrs, 2)  # 2 output classes: genuine and forged\n",
        "\n",
        "# Move the model to GPU if available\n",
        "device = torch.device(\"cuda\" if torch.cuda.is_available() else \"cpu\")\n",
        "model = model.to(device)\n"
      ]
    },
    {
      "cell_type": "markdown",
      "metadata": {
        "id": "S3K3JL3p1SnO"
      },
      "source": [
        "# **HANDLING CLASS IMBALANCES**"
      ]
    },
    {
      "cell_type": "code",
      "execution_count": 11,
      "metadata": {
        "colab": {
          "base_uri": "https://localhost:8080/"
        },
        "id": "0UknX8CA0DMj",
        "outputId": "96b59747-f216-4d91-f910-92cef53da334"
      },
      "outputs": [
        {
          "output_type": "stream",
          "name": "stdout",
          "text": [
            "Number of genuine documents in training set: 72\n",
            "Number of forged documents in training set: 17\n"
          ]
        }
      ],
      "source": [
        "# 2. Now handle class imbalance by calculating class weights\n",
        "import os\n",
        "\n",
        "# Check the number of images in each class for the training set\n",
        "genuine_count = len(os.listdir(os.path.join(train_dir, 'genuine')))\n",
        "forged_count = len(os.listdir(os.path.join(train_dir, 'forged')))\n",
        "total_count = genuine_count + forged_count\n",
        "\n",
        "# Print the number of genuine and forged images\n",
        "print(f\"Number of genuine documents in training set: {genuine_count}\")\n",
        "print(f\"Number of forged documents in training set: {forged_count}\")\n",
        "\n",
        "# Inverse frequency of each class to calculate weights\n",
        "genuine_weight = total_count / genuine_count\n",
        "forged_weight = total_count / forged_count\n",
        "\n",
        "# Create a tensor of weights (this will be passed to the loss function)\n",
        "class_weights = torch.tensor([genuine_weight, forged_weight], dtype=torch.float).to(device)\n",
        "\n",
        "# Use the weighted loss function\n",
        "criterion = nn.CrossEntropyLoss(weight=class_weights)"
      ]
    },
    {
      "cell_type": "markdown",
      "metadata": {
        "id": "XnIQRoiT1Yra"
      },
      "source": [
        "# **LOSS FUNCTION AND OPTIMIZER**"
      ]
    },
    {
      "cell_type": "code",
      "execution_count": 12,
      "metadata": {
        "id": "KsVu5ZZJ0DHV"
      },
      "outputs": [],
      "source": [
        "import torch.optim as optim\n",
        "\n",
        "# Define the optimizer (SGD)\n",
        "optimizer = optim.SGD(model.parameters(), lr=0.001, momentum=0.9)\n"
      ]
    },
    {
      "cell_type": "markdown",
      "metadata": {
        "id": "M7cNCmtu1dmx"
      },
      "source": [
        "# **MODEL TRAINING**"
      ]
    },
    {
      "cell_type": "code",
      "execution_count": 13,
      "metadata": {
        "colab": {
          "base_uri": "https://localhost:8080/"
        },
        "id": "d4LYY8A_0DEe",
        "outputId": "a586280b-93ac-4780-9152-2aaea2779f7d"
      },
      "outputs": [
        {
          "output_type": "stream",
          "name": "stdout",
          "text": [
            "Epoch 1/10\n",
            "----------\n",
            "train Loss: 0.3704 Acc: 0.7640\n",
            "val Loss: 0.2256 Acc: 0.8182\n",
            "Epoch 2/10\n",
            "----------\n",
            "train Loss: 0.2456 Acc: 0.8090\n",
            "val Loss: 0.2474 Acc: 0.8182\n",
            "Epoch 3/10\n",
            "----------\n",
            "train Loss: 0.2575 Acc: 0.8090\n",
            "val Loss: 0.3054 Acc: 0.8182\n",
            "Epoch 4/10\n",
            "----------\n",
            "train Loss: 0.2116 Acc: 0.8090\n",
            "val Loss: 0.2473 Acc: 0.8182\n",
            "Epoch 5/10\n",
            "----------\n",
            "train Loss: 0.1327 Acc: 0.8090\n",
            "val Loss: 0.1861 Acc: 0.8182\n",
            "Epoch 6/10\n",
            "----------\n",
            "train Loss: 0.1168 Acc: 0.8090\n",
            "val Loss: 0.1691 Acc: 0.8182\n",
            "Epoch 7/10\n",
            "----------\n",
            "train Loss: 0.1041 Acc: 0.8090\n",
            "val Loss: 0.1549 Acc: 0.8182\n",
            "Epoch 8/10\n",
            "----------\n",
            "train Loss: 0.0743 Acc: 0.8427\n",
            "val Loss: 0.1274 Acc: 0.8182\n",
            "Epoch 9/10\n",
            "----------\n",
            "train Loss: 0.0676 Acc: 0.8202\n",
            "val Loss: 0.1141 Acc: 0.8182\n",
            "Epoch 10/10\n",
            "----------\n",
            "train Loss: 0.0517 Acc: 0.8876\n",
            "val Loss: 0.1105 Acc: 0.8182\n"
          ]
        }
      ],
      "source": [
        "# Define the training function\n",
        "def train_model(model, criterion, optimizer, num_epochs=5):\n",
        "    for epoch in range(num_epochs):\n",
        "        print(f'Epoch {epoch+1}/{num_epochs}')\n",
        "        print('-' * 10)\n",
        "\n",
        "        # Each epoch has a training and validation phase\n",
        "        for phase in ['train', 'val']:\n",
        "            if phase == 'train':\n",
        "                model.train()  # Set model to training mode\n",
        "            else:\n",
        "                model.eval()   # Set model to evaluate mode\n",
        "\n",
        "            running_loss = 0.0\n",
        "            running_corrects = 0\n",
        "\n",
        "            # Iterate over data\n",
        "            loader = train_loader if phase == 'train' else val_loader\n",
        "            for inputs, labels in loader:\n",
        "                inputs = inputs.to(device)\n",
        "                labels = labels.to(device)\n",
        "\n",
        "                optimizer.zero_grad()\n",
        "\n",
        "                # Forward pass\n",
        "                with torch.set_grad_enabled(phase == 'train'):\n",
        "                    outputs = model(inputs)\n",
        "                    _, preds = torch.max(outputs, 1)\n",
        "                    loss = criterion(outputs, labels)\n",
        "\n",
        "                    # Backward pass and optimization in the training phase\n",
        "                    if phase == 'train':\n",
        "                        loss.backward()\n",
        "                        optimizer.step()\n",
        "\n",
        "                running_loss += loss.item() * inputs.size(0)\n",
        "                running_corrects += torch.sum(preds == labels.data)\n",
        "\n",
        "            # Calculate epoch loss and accuracy\n",
        "            epoch_loss = running_loss / len(loader.dataset)\n",
        "            epoch_acc = running_corrects.double() / len(loader.dataset)\n",
        "\n",
        "            print(f'{phase} Loss: {epoch_loss:.4f} Acc: {epoch_acc:.4f}')\n",
        "\n",
        "    return model\n",
        "\n",
        "# Train the model for 10 epochs\n",
        "trained_model = train_model(model, criterion, optimizer, num_epochs=10)\n"
      ]
    },
    {
      "cell_type": "markdown",
      "metadata": {
        "id": "BEP901bx1g5m"
      },
      "source": [
        "# **MODEL EVALUATION**"
      ]
    },
    {
      "cell_type": "code",
      "execution_count": 14,
      "metadata": {
        "colab": {
          "base_uri": "https://localhost:8080/"
        },
        "id": "gLvkMOEe0C60",
        "outputId": "ec985696-1036-4dea-9dc9-030c662cbf44"
      },
      "outputs": [
        {
          "output_type": "stream",
          "name": "stdout",
          "text": [
            "Precision: 0.8182\n",
            "Recall: 1.0000\n"
          ]
        }
      ],
      "source": [
        "# Evaluate model using precision and recall\n",
        "def evaluate_model(model, val_loader):\n",
        "    model.eval()\n",
        "    all_preds = []\n",
        "    all_labels = []\n",
        "\n",
        "    with torch.no_grad():\n",
        "        for inputs, labels in val_loader:\n",
        "            inputs = inputs.to(device)\n",
        "            labels = labels.to(device)\n",
        "            outputs = model(inputs)\n",
        "            _, preds = torch.max(outputs, 1)\n",
        "\n",
        "            all_preds.extend(preds.cpu().numpy())\n",
        "            all_labels.extend(labels.cpu().numpy())\n",
        "\n",
        "    precision = precision_score(all_labels, all_preds, average='binary')\n",
        "    recall = recall_score(all_labels, all_preds, average='binary')\n",
        "\n",
        "    print(f'Precision: {precision:.4f}')\n",
        "    print(f'Recall: {recall:.4f}')\n",
        "\n",
        "# Evaluate the trained model\n",
        "evaluate_model(trained_model, val_loader)\n"
      ]
    },
    {
      "cell_type": "code",
      "execution_count": 15,
      "metadata": {
        "id": "26bCbow00TK6"
      },
      "outputs": [],
      "source": [
        "# Function to evaluate the model and collect predictions and true labels\n",
        "def collect_predictions_and_labels(model, loader):\n",
        "    model.eval()  # Set model to evaluation mode\n",
        "    all_preds = []\n",
        "    all_labels = []\n",
        "\n",
        "    # Turn off gradients for validation to speed up\n",
        "    with torch.no_grad():\n",
        "        for inputs, labels in loader:\n",
        "            inputs = inputs.to(device)\n",
        "            labels = labels.to(device)\n",
        "\n",
        "            # Forward pass to get outputs\n",
        "            outputs = model(inputs)\n",
        "            _, preds = torch.max(outputs, 1)\n",
        "\n",
        "            # Append the true labels and predictions\n",
        "            all_labels.extend(labels.cpu().numpy())  # Move labels to CPU and convert to numpy\n",
        "            all_preds.extend(preds.cpu().numpy())  # Move predictions to CPU and convert to numpy\n",
        "\n",
        "    return all_labels, all_preds\n",
        "\n",
        "# Collect predictions and true labels from validation set\n",
        "y_true, y_pred = collect_predictions_and_labels(trained_model, val_loader)\n"
      ]
    },
    {
      "cell_type": "code",
      "execution_count": 16,
      "metadata": {
        "id": "zn_O4u720TH-"
      },
      "outputs": [],
      "source": [
        "# Assuming you are using ImageFolder for loading the dataset\n",
        "class_names = val_dataset.classes  # This will give you the class names\n"
      ]
    },
    {
      "cell_type": "code",
      "execution_count": 17,
      "metadata": {
        "colab": {
          "base_uri": "https://localhost:8080/",
          "height": 472
        },
        "id": "0w8rWNzj0TFA",
        "outputId": "290c5056-f507-42ca-c173-2de72625ccf8"
      },
      "outputs": [
        {
          "output_type": "display_data",
          "data": {
            "text/plain": [
              "<Figure size 640x480 with 2 Axes>"
            ],
            "image/png": "[encoded data removed]"
          },
          "metadata": {}
        }
      ],
      "source": [
        "from sklearn.metrics import confusion_matrix\n",
        "import seaborn as sns\n",
        "import matplotlib.pyplot as plt\n",
        "\n",
        "# Assuming you are using ImageFolder for validation set\n",
        "class_names = val_dataset.classes  # Get class names from the validation dataset\n",
        "\n",
        "# Collect predictions and true labels from validation set\n",
        "y_true, y_pred = collect_predictions_and_labels(trained_model, val_loader)\n",
        "\n",
        "# Generate confusion matrix\n",
        "cm = confusion_matrix(y_true, y_pred)\n",
        "\n",
        "# Plot confusion matrix using seaborn\n",
        "sns.heatmap(cm, annot=True, fmt='d', cmap='Blues', xticklabels=class_names, yticklabels=class_names)\n",
        "plt.ylabel('Actual')\n",
        "plt.xlabel('Predicted')\n",
        "plt.title('Confusion Matrix')\n",
        "plt.show()\n"
      ]
    },
    {
      "cell_type": "code",
      "execution_count": 18,
      "metadata": {
        "colab": {
          "base_uri": "https://localhost:8080/"
        },
        "id": "8sswb_wQ0TCD",
        "outputId": "34b75d35-b334-4322-d279-87fc72e87c98"
      },
      "outputs": [
        {
          "output_type": "stream",
          "name": "stdout",
          "text": [
            "Model saved as 'forgery_detection_model.pth'\n"
          ]
        }
      ],
      "source": [
        "# Save the trained model\n",
        "torch.save(trained_model.state_dict(), 'forgery_detection_model.pth')\n",
        "print(\"Model saved as 'forgery_detection_model.pth'\")\n"
      ]
    },
    {
      "cell_type": "markdown",
      "metadata": {
        "id": "F2NkceoM109L"
      },
      "source": [
        "# **MODEL TESTING ON VALIDATION SET**"
      ]
    },
    {
      "cell_type": "code",
      "execution_count": 19,
      "metadata": {
        "colab": {
          "base_uri": "https://localhost:8080/"
        },
        "id": "U977aEuI0S_C",
        "outputId": "5220be50-153b-4cb5-aa0b-dfb6683eb208"
      },
      "outputs": [
        {
          "output_type": "stream",
          "name": "stdout",
          "text": [
            "Predictions saved to 'forgery_predictions.csv'\n"
          ]
        }
      ],
      "source": [
        "import os\n",
        "import torch\n",
        "import pandas as pd\n",
        "from torch.utils.data import DataLoader\n",
        "from PIL import Image\n",
        "from torchvision import datasets\n",
        "\n",
        "# Define the function to predict on validation set and save results to CSV\n",
        "def process_and_predict_images(model, loader, class_names):\n",
        "    model.eval()  # Set the model to evaluation mode\n",
        "    results = []\n",
        "\n",
        "    # Loop through the validation set and make predictions\n",
        "    for inputs, labels, paths in loader:\n",
        "        inputs = inputs.to(device)\n",
        "\n",
        "        with torch.no_grad():\n",
        "            outputs = model(inputs)\n",
        "            _, predicted = torch.max(outputs, 1)\n",
        "            confidence = torch.softmax(outputs, dim=1).max(dim=1)[0].cpu().numpy() * 100  # Confidence in percentage\n",
        "            predictions = predicted.cpu().numpy()\n",
        "\n",
        "            # Save the predictions for each file\n",
        "            for i in range(len(paths)):\n",
        "                file_name = os.path.basename(paths[i])  # Get the filename from the path\n",
        "                is_forged = bool(predictions[i])  # 0 -> genuine, 1 -> forged\n",
        "                confidence_score = confidence[i]\n",
        "                results.append((file_name, is_forged, confidence_score))\n",
        "\n",
        "    # Convert the results into a DataFrame\n",
        "    df = pd.DataFrame(results, columns=[\"file_name\", \"is_forged\", \"confidence\"])\n",
        "\n",
        "    # Save the DataFrame as a CSV file\n",
        "    df.to_csv(\"forgery_predictions.csv\", index=False)\n",
        "    print(\"Predictions saved to 'forgery_predictions.csv'\")\n",
        "\n",
        "# Custom dataset loader for getting image paths along with data\n",
        "class ImageFolderWithPaths(datasets.ImageFolder):\n",
        "    # Override the __getitem__ method to also return the image paths\n",
        "    def __getitem__(self, index):\n",
        "        original_tuple = super(ImageFolderWithPaths, self).__getitem__(index)\n",
        "        path = self.imgs[index][0]\n",
        "        return original_tuple + (path,)\n",
        "\n",
        "# Load the validation dataset using the custom ImageFolder class\n",
        "val_dataset_with_paths = ImageFolderWithPaths(val_dir, transform=data_transforms['val'])\n",
        "\n",
        "# Create DataLoader for validation set with paths\n",
        "val_loader_with_paths = DataLoader(val_dataset_with_paths, batch_size=16, shuffle=False)\n",
        "\n",
        "# Call the function to predict and save results on the validation set\n",
        "process_and_predict_images(trained_model, val_loader_with_paths, val_dataset_with_paths.classes)\n"
      ]
    },
    {
      "cell_type": "markdown",
      "metadata": {
        "id": "PYEMLkTB16Pe"
      },
      "source": [
        "# **WEB APP**"
      ]
    },
    {
      "cell_type": "code",
      "execution_count": 20,
      "metadata": {
        "colab": {
          "base_uri": "https://localhost:8080/"
        },
        "id": "iQ84Rz4I0iGk",
        "outputId": "9a1811fe-073b-4a7d-e6bd-ea6873dbbcee"
      },
      "outputs": [
        {
          "output_type": "stream",
          "name": "stdout",
          "text": [
            "Collecting pyngrok\n",
            "  Downloading pyngrok-7.2.0-py3-none-any.whl.metadata (7.4 kB)\n",
            "Requirement already satisfied: PyYAML>=5.1 in /usr/local/lib/python3.10/dist-packages (from pyngrok) (6.0.2)\n",
            "Downloading pyngrok-7.2.0-py3-none-any.whl (22 kB)\n",
            "Installing collected packages: pyngrok\n",
            "Successfully installed pyngrok-7.2.0\n",
            "Collecting streamlit\n",
            "  Downloading streamlit-1.38.0-py2.py3-none-any.whl.metadata (8.5 kB)\n",
            "Requirement already satisfied: altair<6,>=4.0 in /usr/local/lib/python3.10/dist-packages (from streamlit) (4.2.2)\n",
            "Requirement already satisfied: blinker<2,>=1.0.0 in /usr/lib/python3/dist-packages (from streamlit) (1.4)\n",
            "Requirement already satisfied: cachetools<6,>=4.0 in /usr/local/lib/python3.10/dist-packages (from streamlit) (5.5.0)\n",
            "Requirement already satisfied: click<9,>=7.0 in /usr/local/lib/python3.10/dist-packages (from streamlit) (8.1.7)\n",
            "Requirement already satisfied: numpy<3,>=1.20 in /usr/local/lib/python3.10/dist-packages (from streamlit) (1.26.4)\n",
            "Requirement already satisfied: packaging<25,>=20 in /usr/local/lib/python3.10/dist-packages (from streamlit) (24.1)\n",
            "Requirement already satisfied: pandas<3,>=1.3.0 in /usr/local/lib/python3.10/dist-packages (from streamlit) (2.1.4)\n",
            "Requirement already satisfied: pillow<11,>=7.1.0 in /usr/local/lib/python3.10/dist-packages (from streamlit) (10.4.0)\n",
            "Requirement already satisfied: protobuf<6,>=3.20 in /usr/local/lib/python3.10/dist-packages (from streamlit) (3.20.3)\n",
            "Requirement already satisfied: pyarrow>=7.0 in /usr/local/lib/python3.10/dist-packages (from streamlit) (14.0.2)\n",
            "Requirement already satisfied: requests<3,>=2.27 in /usr/local/lib/python3.10/dist-packages (from streamlit) (2.32.3)\n",
            "Requirement already satisfied: rich<14,>=10.14.0 in /usr/local/lib/python3.10/dist-packages (from streamlit) (13.8.1)\n",
            "Collecting tenacity<9,>=8.1.0 (from streamlit)\n",
            "  Downloading tenacity-8.5.0-py3-none-any.whl.metadata (1.2 kB)\n",
            "Requirement already satisfied: toml<2,>=0.10.1 in /usr/local/lib/python3.10/dist-packages (from streamlit) (0.10.2)\n",
            "Requirement already satisfied: typing-extensions<5,>=4.3.0 in /usr/local/lib/python3.10/dist-packages (from streamlit) (4.12.2)\n",
            "Collecting gitpython!=3.1.19,<4,>=3.0.7 (from streamlit)\n",
            "  Downloading GitPython-3.1.43-py3-none-any.whl.metadata (13 kB)\n",
            "Collecting pydeck<1,>=0.8.0b4 (from streamlit)\n",
            "  Downloading pydeck-0.9.1-py2.py3-none-any.whl.metadata (4.1 kB)\n",
            "Requirement already satisfied: tornado<7,>=6.0.3 in /usr/local/lib/python3.10/dist-packages (from streamlit) (6.3.3)\n",
            "Collecting watchdog<5,>=2.1.5 (from streamlit)\n",
            "  Downloading watchdog-4.0.2-py3-none-manylinux2014_x86_64.whl.metadata (38 kB)\n",
            "Requirement already satisfied: entrypoints in /usr/local/lib/python3.10/dist-packages (from altair<6,>=4.0->streamlit) (0.4)\n",
            "Requirement already satisfied: jinja2 in /usr/local/lib/python3.10/dist-packages (from altair<6,>=4.0->streamlit) (3.1.4)\n",
            "Requirement already satisfied: jsonschema>=3.0 in /usr/local/lib/python3.10/dist-packages (from altair<6,>=4.0->streamlit) (4.23.0)\n",
            "Requirement already satisfied: toolz in /usr/local/lib/python3.10/dist-packages (from altair<6,>=4.0->streamlit) (0.12.1)\n",
            "Collecting gitdb<5,>=4.0.1 (from gitpython!=3.1.19,<4,>=3.0.7->streamlit)\n",
            "  Downloading gitdb-4.0.11-py3-none-any.whl.metadata (1.2 kB)\n",
            "Requirement already satisfied: python-dateutil>=2.8.2 in /usr/local/lib/python3.10/dist-packages (from pandas<3,>=1.3.0->streamlit) (2.8.2)\n",
            "Requirement already satisfied: pytz>=2020.1 in /usr/local/lib/python3.10/dist-packages (from pandas<3,>=1.3.0->streamlit) (2024.2)\n",
            "Requirement already satisfied: tzdata>=2022.1 in /usr/local/lib/python3.10/dist-packages (from pandas<3,>=1.3.0->streamlit) (2024.1)\n",
            "Requirement already satisfied: charset-normalizer<4,>=2 in /usr/local/lib/python3.10/dist-packages (from requests<3,>=2.27->streamlit) (3.3.2)\n",
            "Requirement already satisfied: idna<4,>=2.5 in /usr/local/lib/python3.10/dist-packages (from requests<3,>=2.27->streamlit) (3.10)\n",
            "Requirement already satisfied: urllib3<3,>=1.21.1 in /usr/local/lib/python3.10/dist-packages (from requests<3,>=2.27->streamlit) (2.0.7)\n",
            "Requirement already satisfied: certifi>=2017.4.17 in /usr/local/lib/python3.10/dist-packages (from requests<3,>=2.27->streamlit) (2024.8.30)\n",
            "Requirement already satisfied: markdown-it-py>=2.2.0 in /usr/local/lib/python3.10/dist-packages (from rich<14,>=10.14.0->streamlit) (3.0.0)\n",
            "Requirement already satisfied: pygments<3.0.0,>=2.13.0 in /usr/local/lib/python3.10/dist-packages (from rich<14,>=10.14.0->streamlit) (2.18.0)\n",
            "Collecting smmap<6,>=3.0.1 (from gitdb<5,>=4.0.1->gitpython!=3.1.19,<4,>=3.0.7->streamlit)\n",
            "  Downloading smmap-5.0.1-py3-none-any.whl.metadata (4.3 kB)\n",
            "Requirement already satisfied: MarkupSafe>=2.0 in /usr/local/lib/python3.10/dist-packages (from jinja2->altair<6,>=4.0->streamlit) (2.1.5)\n",
            "Requirement already satisfied: attrs>=22.2.0 in /usr/local/lib/python3.10/dist-packages (from jsonschema>=3.0->altair<6,>=4.0->streamlit) (24.2.0)\n",
            "Requirement already satisfied: jsonschema-specifications>=2023.03.6 in /usr/local/lib/python3.10/dist-packages (from jsonschema>=3.0->altair<6,>=4.0->streamlit) (2023.12.1)\n",
            "Requirement already satisfied: referencing>=0.28.4 in /usr/local/lib/python3.10/dist-packages (from jsonschema>=3.0->altair<6,>=4.0->streamlit) (0.35.1)\n",
            "Requirement already satisfied: rpds-py>=0.7.1 in /usr/local/lib/python3.10/dist-packages (from jsonschema>=3.0->altair<6,>=4.0->streamlit) (0.20.0)\n",
            "Requirement already satisfied: mdurl~=0.1 in /usr/local/lib/python3.10/dist-packages (from markdown-it-py>=2.2.0->rich<14,>=10.14.0->streamlit) (0.1.2)\n",
            "Requirement already satisfied: six>=1.5 in /usr/local/lib/python3.10/dist-packages (from python-dateutil>=2.8.2->pandas<3,>=1.3.0->streamlit) (1.16.0)\n",
            "Downloading streamlit-1.38.0-py2.py3-none-any.whl (8.7 MB)\n",
            "\u001b[2K   \u001b[90m━━━━━━━━━━━━━━━━━━━━━━━━━━━━━━━━━━━━━━━━\u001b[0m \u001b[32m8.7/8.7 MB\u001b[0m \u001b[31m73.4 MB/s\u001b[0m eta \u001b[36m0:00:00\u001b[0m\n",
            "\u001b[?25hDownloading GitPython-3.1.43-py3-none-any.whl (207 kB)\n",
            "\u001b[2K   \u001b[90m━━━━━━━━━━━━━━━━━━━━━━━━━━━━━━━━━━━━━━━━\u001b[0m \u001b[32m207.3/207.3 kB\u001b[0m \u001b[31m15.6 MB/s\u001b[0m eta \u001b[36m0:00:00\u001b[0m\n",
            "\u001b[?25hDownloading pydeck-0.9.1-py2.py3-none-any.whl (6.9 MB)\n",
            "\u001b[2K   \u001b[90m━━━━━━━━━━━━━━━━━━━━━━━━━━━━━━━━━━━━━━━━\u001b[0m \u001b[32m6.9/6.9 MB\u001b[0m \u001b[31m83.7 MB/s\u001b[0m eta \u001b[36m0:00:00\u001b[0m\n",
            "\u001b[?25hDownloading tenacity-8.5.0-py3-none-any.whl (28 kB)\n",
            "Downloading watchdog-4.0.2-py3-none-manylinux2014_x86_64.whl (82 kB)\n",
            "\u001b[2K   \u001b[90m━━━━━━━━━━━━━━━━━━━━━━━━━━━━━━━━━━━━━━━━\u001b[0m \u001b[32m82.9/82.9 kB\u001b[0m \u001b[31m6.0 MB/s\u001b[0m eta \u001b[36m0:00:00\u001b[0m\n",
            "\u001b[?25hDownloading gitdb-4.0.11-py3-none-any.whl (62 kB)\n",
            "\u001b[2K   \u001b[90m━━━━━━━━━━━━━━━━━━━━━━━━━━━━━━━━━━━━━━━━\u001b[0m \u001b[32m62.7/62.7 kB\u001b[0m \u001b[31m4.0 MB/s\u001b[0m eta \u001b[36m0:00:00\u001b[0m\n",
            "\u001b[?25hDownloading smmap-5.0.1-py3-none-any.whl (24 kB)\n",
            "Installing collected packages: watchdog, tenacity, smmap, pydeck, gitdb, gitpython, streamlit\n",
            "  Attempting uninstall: tenacity\n",
            "    Found existing installation: tenacity 9.0.0\n",
            "    Uninstalling tenacity-9.0.0:\n",
            "      Successfully uninstalled tenacity-9.0.0\n",
            "Successfully installed gitdb-4.0.11 gitpython-3.1.43 pydeck-0.9.1 smmap-5.0.1 streamlit-1.38.0 tenacity-8.5.0 watchdog-4.0.2\n"
          ]
        }
      ],
      "source": [
        "!pip install pyngrok\n",
        "!pip install streamlit\n"
      ]
    },
    {
      "cell_type": "code",
      "execution_count": 21,
      "metadata": {
        "colab": {
          "base_uri": "https://localhost:8080/"
        },
        "id": "tB1dSNkH0iDv",
        "outputId": "13eeb3f8-3afb-4abd-fe9a-0ac50750da7c"
      },
      "outputs": [
        {
          "output_type": "stream",
          "name": "stdout",
          "text": [
            "Writing app.py\n"
          ]
        }
      ],
      "source": [
        "%%writefile app.py\n",
        "import streamlit as st\n",
        "import torch\n",
        "from torchvision import models, transforms\n",
        "from PIL import Image\n",
        "import torch.nn as nn\n",
        "import time\n",
        "import pandas as pd\n",
        "\n",
        "# Load the trained model (architecture + weights)\n",
        "@st.cache_resource\n",
        "def load_model():\n",
        "    model = models.resnet50(pretrained=False)  # Use the same model as trained\n",
        "    num_ftrs = model.fc.in_features\n",
        "    model.fc = nn.Linear(num_ftrs, 2)  # Assuming binary classification (genuine vs forged)\n",
        "\n",
        "    model.load_state_dict(torch.load('forgery_detection_model.pth', map_location=torch.device('cpu')))\n",
        "    model.eval()\n",
        "    return model\n",
        "\n",
        "# Define the image transformations (same as during training)\n",
        "data_transforms = transforms.Compose([\n",
        "    transforms.Resize((224, 224)),\n",
        "    transforms.ToTensor(),\n",
        "    transforms.Normalize([0.485, 0.456, 0.406], [0.229, 0.224, 0.225])\n",
        "])\n",
        "\n",
        "# Prediction function\n",
        "def predict_image(image, model):\n",
        "    if image.mode != \"RGB\":\n",
        "        image = image.convert(\"RGB\")\n",
        "\n",
        "    image = data_transforms(image)\n",
        "\n",
        "    if image.shape[0] != 3:\n",
        "        st.error(\"Image has an unexpected number of channels.\")\n",
        "        return None, None\n",
        "\n",
        "    image = image.unsqueeze(0)\n",
        "\n",
        "    with torch.no_grad():\n",
        "        output = model(image)\n",
        "        _, predicted = torch.max(output, 1)\n",
        "        confidence = torch.softmax(output, dim=1).max().item() * 100\n",
        "    return predicted.item(), confidence\n",
        "\n",
        "# Streamlit app interface\n",
        "st.set_page_config(page_title=\"Document Forgery Detection\", layout=\"wide\")\n",
        "\n",
        "# Display the title and a brief description\n",
        "st.title(\"🔍 Document Forgery Detection\")\n",
        "st.markdown(\"**Upload images of documents and find out if they are _genuine_ or _forged_ using our advanced detection model.**\")\n",
        "\n",
        "# Upload images\n",
        "uploaded_files = st.file_uploader(\"Upload one or more document images:\", type=[\"jpg\", \"png\", \"jpeg\", \"tif\", \"tiff\"], accept_multiple_files=True)\n",
        "\n",
        "if uploaded_files:\n",
        "    st.write(f\"🖼️ You've uploaded {len(uploaded_files)} document(s).\")\n",
        "\n",
        "    model = load_model()  # Load model only when files are uploaded\n",
        "\n",
        "    # Create tabs for better navigation\n",
        "    tab1, tab2, tab3 = st.tabs([\"📝 Predictions\", \"📊 Download Results\", \"📖 Documentation\"])\n",
        "\n",
        "    # Tab 1: Predictions\n",
        "    with tab1:\n",
        "        st.subheader(\"📋 Results\")\n",
        "        y_true = []\n",
        "        y_pred = []\n",
        "        file_names = []\n",
        "        results = []\n",
        "\n",
        "        cols = st.columns(3)  # Display images in 3-column layout\n",
        "\n",
        "        # Process and predict for each uploaded file\n",
        "        for i, uploaded_file in enumerate(uploaded_files):\n",
        "            image = Image.open(uploaded_file)\n",
        "            with cols[i % 3]:\n",
        "                st.image(image, caption=f\"{uploaded_file.name}\", use_column_width=True)\n",
        "\n",
        "                label, confidence = predict_image(image, model)\n",
        "\n",
        "                if label is not None:\n",
        "                    y_true.append(label)\n",
        "                    y_pred.append(label)\n",
        "                    file_names.append(uploaded_file.name)\n",
        "                    result_label = \"Genuine\" if label == 0 else \"Forged\"\n",
        "\n",
        "                    # Display result with color coding\n",
        "                    st.markdown(f\"<span style='color: {'green' if label == 0 else 'red'}'>**{result_label}** - Confidence: {confidence:.2f}%</span>\", unsafe_allow_html=True)\n",
        "\n",
        "                    # Store the result for later\n",
        "                    results.append({\n",
        "                        \"File Name\": uploaded_file.name,\n",
        "                        \"Result\": result_label,\n",
        "                        \"Confidence\": f\"{confidence:.2f}%\",\n",
        "                    })\n",
        "                    time.sleep(0.5)  # Simulate processing time for better UX\n",
        "\n",
        "    # Tab 2: Download Results\n",
        "    with tab2:\n",
        "        st.subheader(\"📊 Download Prediction Report\")\n",
        "        if results:\n",
        "            report_df = pd.DataFrame(results)\n",
        "            st.write(report_df)\n",
        "\n",
        "            # Allow users to download the CSV\n",
        "            csv = report_df.to_csv(index=False)\n",
        "            st.download_button(\"Download Prediction Report\", csv, \"prediction_report.csv\", \"text/csv\", key=\"download-report\")\n",
        "        else:\n",
        "            st.info(\"Please make predictions first in the 'Predictions' tab.\")\n",
        "\n",
        "    # Tab 3: Documentation\n",
        "    with tab3:\n",
        "        st.subheader(\"📖 How the Detection Works\")\n",
        "        st.markdown(\"\"\"\n",
        "        Our forgery detection model is based on ResNet50, a deep learning model pre-trained on the ImageNet dataset.\n",
        "        We fine-tuned the model using a custom dataset of genuine and forged documents.\n",
        "\n",
        "        ### Steps:\n",
        "        1. Upload one or more images in common formats (JPG, PNG, TIFF).\n",
        "        2. The model will analyze each document to determine whether it's genuine or forged.\n",
        "        3. Results include confidence scores for each prediction.\n",
        "\n",
        "        ### Limitations:\n",
        "        - The model works best with clean, high-quality images of documents.\n",
        "        - For very complex forgeries, the model may require additional tuning and training data.\n",
        "        \"\"\")\n",
        "\n",
        "else:\n",
        "    st.info(\"Please upload document images to begin the analysis.\")\n"
      ]
    },
    {
      "cell_type": "code",
      "execution_count": 22,
      "metadata": {
        "id": "uRVDRn3n0iA-"
      },
      "outputs": [],
      "source": [
        "# Start the Streamlit app\n",
        "!streamlit run app.py &>/dev/null&\n"
      ]
    },
    {
      "cell_type": "markdown",
      "metadata": {
        "id": "PTAwtR5_1_Fm"
      },
      "source": [
        "# **LOCAL TUNNEL DEPLOYMENT USING NGROK**"
      ]
    },
    {
      "cell_type": "code",
      "execution_count": null,
      "metadata": {
        "colab": {
          "base_uri": "https://localhost:8080/"
        },
        "id": "LxcDLGb90h-R",
        "outputId": "caafbc3a-1404-41a9-d4e5-896431374e31"
      },
      "outputs": [
        {
          "name": "stdout",
          "output_type": "stream",
          "text": [
            "Authtoken saved to configuration file: /root/.config/ngrok/ngrok.yml\n"
          ]
        }
      ],
      "source": [
        "!ngrok authtoken <YOUR AUTH TOKEN>"
      ]
    },
    {
      "cell_type": "code",
      "execution_count": null,
      "metadata": {
        "colab": {
          "background_save": true
        },
        "id": "ejHQc4nJ0urD"
      },
      "outputs": [],
      "source": [
        "!pkill ngrok\n"
      ]
    },
    {
      "cell_type": "code",
      "execution_count": null,
      "metadata": {
        "id": "PMkiGP4I0uoB"
      },
      "outputs": [],
      "source": [
        "from pyngrok import ngrok\n",
        "\n",
        "# Connect ngrok on port 8501 with explicit protocol\n",
        "public_url = ngrok.connect(addr='8501', proto='http')\n",
        "\n",
        "# Print the public URL where Streamlit is running\n",
        "print(f\"Streamlit app running at: {public_url}\")\n"
      ]
    }
  ],
  "metadata": {
    "colab": {
      "provenance": [],
      "authorship_tag": "ABX9TyMCHpHngGTMcCYQxPd8/yHB",
      "include_colab_link": true
    },
    "kernelspec": {
      "display_name": "Python 3",
      "name": "python3"
    },
    "language_info": {
      "name": "python"
    }
  },
  "nbformat": 4,
  "nbformat_minor": 0
}